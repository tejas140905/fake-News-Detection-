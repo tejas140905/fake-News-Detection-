import pandas as pd
import matplotlib.pyplot as plt
import seaborn as sns

# Load the dataset
df = pd.read_csv('data/fake_news_data.csv')

# Display basic info
df.info()

# Show first few records
df.head()

# Plot the distribution of labels
sns.countplot(x='label', data=df)
plt.title('Fake vs Real News')
plt.show()
